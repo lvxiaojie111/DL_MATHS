{
 "cells": [
  {
   "cell_type": "code",
   "execution_count": 10,
   "metadata": {},
   "outputs": [
    {
     "name": "stdout",
     "output_type": "stream",
     "text": [
      "Tensor(\"range_16:0\", shape=(5,), dtype=int32) Tensor(\"strided_slice_7:0\", shape=(1, 5), dtype=int32) Tensor(\"Tile_4:0\", shape=(5, 5), dtype=int32) Tensor(\"strided_slice_9:0\", shape=(5, 1), dtype=int32) Tensor(\"Tile_5:0\", shape=(5, 5), dtype=int32)\n",
      "Tensor(\"concat:0\", shape=(5, 5, 2), dtype=int32)\n"
     ]
    }
   ],
   "source": [
    "import tensorflow as tf\n",
    "# a=tf.range(10, dtype=tf.int32)\n",
    "output_size=5\n",
    "a=tf.range(output_size, dtype=tf.int32)#生成一个一维数组\n",
    "b=tf.range(output_size, dtype=tf.int32)[tf.newaxis, :]#给数组增加一维，变为二维\n",
    "c = tf.tile(tf.range(output_size, dtype=tf.int32)[tf.newaxis, :], [output_size, 1])#第一个维度复制，第二个维度不变\n",
    "\n",
    "b1=y = tf.range(output_size, dtype=tf.int32)[:, tf.newaxis]\n",
    "c1 = tf.tile(tf.range(output_size, dtype=tf.int32)[:, tf.newaxis], [1, output_size])\n",
    "\n",
    "xy_grid = tf.concat([c[:, :, tf.newaxis], c1[:, :, tf.newaxis]], axis=-1)#将两维数据扩展到三维，按照最后一个维度进行拼接，拼接过后维度并不改变\n",
    "with tf.Session() as sess:\n",
    "    sess.run([a,b,c,b1,c1,xy_grid])\n",
    "    print(a,b,c,b1,c1)\n",
    "    print(xy_grid)"
   ]
  },
  {
   "cell_type": "markdown",
   "metadata": {},
   "source": [
    "tf.sigmoid 函数\n",
    "tf.sigmoid函数具有以下所列的别名：\n",
    "\n",
    "tf.nn.sigmoid\n",
    "tf.sigmoid\n",
    "sigmoid(\n",
    "    x,\n",
    "    name=None\n",
    ")\n",
    "定义在：tensorflow/python/ops/math_ops.py.\n",
    "\n",
    "计算 x 元素的sigmoid.\n",
    "\n",
    "具体来说,就是：y = 1/(1 + exp (-x)).\n",
    "\n",
    "函数参数\n",
    "x：一个Tensor,具有以下的类型：float16、float32、float64、complex64或complex128.\n",
    "name：操作的名称(可选).\n",
    "函数返回\n",
    "与x具有相同的Tensor."
   ]
  },
  {
   "cell_type": "code",
   "execution_count": 11,
   "metadata": {},
   "outputs": [
    {
     "name": "stdout",
     "output_type": "stream",
     "text": [
      "[[0.7310586 0.880797 ]\n",
      " [0.7310586 0.880797 ]\n",
      " [0.7310586 0.880797 ]]\n"
     ]
    }
   ],
   "source": [
    "import tensorflow as tf\n",
    "\n",
    "a = tf.constant([[1.0, 2.0], [1.0, 2.0], [1.0, 2.0]])\n",
    "sess = tf.Session()\n",
    "print(sess.run(tf.sigmoid(a)))"
   ]
  },
  {
   "cell_type": "code",
   "execution_count": 15,
   "metadata": {},
   "outputs": [
    {
     "name": "stdout",
     "output_type": "stream",
     "text": [
      "[0. 1. 0. 0. 0.]\n",
      "[0.2 0.2 0.2 0.2 0.2]\n",
      "[0.002 0.992 0.002 0.002 0.002]\n"
     ]
    }
   ],
   "source": [
    "import numpy as np\n",
    "num_classes=5\n",
    "bbox_class_ind=1\n",
    "onehot = np.zeros(num_classes, dtype=np.float)\n",
    "onehot[bbox_class_ind] = 1.0\n",
    "uniform_distribution = np.full(num_classes, 1.0 / num_classes)\n",
    "deta = 0.01\n",
    "smooth_onehot = onehot * (1 - deta) + deta * uniform_distribution\n",
    "print(onehot)\n",
    "print(uniform_distribution)\n",
    "print(smooth_onehot)"
   ]
  },
  {
   "cell_type": "markdown",
   "metadata": {},
   "source": [
    "一维向量增加一个维度:\n",
    "1、前面增加，在外层增加,（3,1）\n",
    "2、后面增加，对最内侧元素增加（1,3）\n",
    "3、在哪个维度加，哪个维度就是1"
   ]
  },
  {
   "cell_type": "code",
   "execution_count": 347,
   "metadata": {},
   "outputs": [
    {
     "name": "stdout",
     "output_type": "stream",
     "text": [
      "[ 8 16 32]\n",
      "[[ 8]\n",
      " [16]\n",
      " [32]] (3, 1)\n",
      "[[ 8 16 32]] (1, 3)\n"
     ]
    }
   ],
   "source": [
    "\n",
    "x=np.array([8,16,32])\n",
    "y=x[:,np.newaxis]\n",
    "z=x[None,:]\n",
    "print(x)\n",
    "print(y,y.shape)\n",
    "print(z,z.shape)"
   ]
  },
  {
   "cell_type": "code",
   "execution_count": 273,
   "metadata": {},
   "outputs": [
    {
     "name": "stdout",
     "output_type": "stream",
     "text": [
      "[ 55.  85.  90. 130.]\n",
      "[55. 85.] \n",
      " [ 90. 130.] \n",
      " [array([55., 85.]), array([ 90., 130.])] \n",
      "\n",
      "[[ 6.875   10.625   11.25    16.25   ]\n",
      " [ 3.4375   5.3125   5.625    8.125  ]\n",
      " [ 1.71875  2.65625  2.8125   4.0625 ]]\n",
      "[[ 6.875 10.625 11.25  16.25 ]]\n",
      "6 10\n",
      "(3, 64, 64, 3, 5)\n",
      "[[[[0. 0. 0. 0. 0.]\n",
      "   [0. 0. 0. 0. 0.]\n",
      "   [0. 0. 0. 0. 0.]]\n",
      "\n",
      "  [[0. 0. 0. 0. 0.]\n",
      "   [0. 0. 0. 0. 0.]\n",
      "   [0. 0. 0. 0. 0.]]\n",
      "\n",
      "  [[0. 0. 0. 0. 0.]\n",
      "   [0. 0. 0. 0. 0.]\n",
      "   [0. 0. 0. 0. 0.]]\n",
      "\n",
      "  ...\n",
      "\n",
      "  [[0. 0. 0. 0. 0.]\n",
      "   [0. 0. 0. 0. 0.]\n",
      "   [0. 0. 0. 0. 0.]]\n",
      "\n",
      "  [[0. 0. 0. 0. 0.]\n",
      "   [0. 0. 0. 0. 0.]\n",
      "   [0. 0. 0. 0. 0.]]\n",
      "\n",
      "  [[0. 0. 0. 0. 0.]\n",
      "   [0. 0. 0. 0. 0.]\n",
      "   [0. 0. 0. 0. 0.]]]\n",
      "\n",
      "\n",
      " [[[0. 0. 0. 0. 0.]\n",
      "   [0. 0. 0. 0. 0.]\n",
      "   [0. 0. 0. 0. 0.]]\n",
      "\n",
      "  [[0. 0. 0. 0. 0.]\n",
      "   [0. 0. 0. 0. 0.]\n",
      "   [0. 0. 0. 0. 0.]]\n",
      "\n",
      "  [[0. 0. 0. 0. 0.]\n",
      "   [0. 0. 0. 0. 0.]\n",
      "   [0. 0. 0. 0. 0.]]\n",
      "\n",
      "  ...\n",
      "\n",
      "  [[0. 0. 0. 0. 0.]\n",
      "   [0. 0. 0. 0. 0.]\n",
      "   [0. 0. 0. 0. 0.]]\n",
      "\n",
      "  [[0. 0. 0. 0. 0.]\n",
      "   [0. 0. 0. 0. 0.]\n",
      "   [0. 0. 0. 0. 0.]]\n",
      "\n",
      "  [[0. 0. 0. 0. 0.]\n",
      "   [0. 0. 0. 0. 0.]\n",
      "   [0. 0. 0. 0. 0.]]]\n",
      "\n",
      "\n",
      " [[[0. 0. 0. 0. 0.]\n",
      "   [0. 0. 0. 0. 0.]\n",
      "   [0. 0. 0. 0. 0.]]\n",
      "\n",
      "  [[0. 0. 0. 0. 0.]\n",
      "   [0. 0. 0. 0. 0.]\n",
      "   [0. 0. 0. 0. 0.]]\n",
      "\n",
      "  [[0. 0. 0. 0. 0.]\n",
      "   [0. 0. 0. 0. 0.]\n",
      "   [0. 0. 0. 0. 0.]]\n",
      "\n",
      "  ...\n",
      "\n",
      "  [[0. 0. 0. 0. 0.]\n",
      "   [0. 0. 0. 0. 0.]\n",
      "   [0. 0. 0. 0. 0.]]\n",
      "\n",
      "  [[0. 0. 0. 0. 0.]\n",
      "   [0. 0. 0. 0. 0.]\n",
      "   [0. 0. 0. 0. 0.]]\n",
      "\n",
      "  [[0. 0. 0. 0. 0.]\n",
      "   [0. 0. 0. 0. 0.]\n",
      "   [0. 0. 0. 0. 0.]]]\n",
      "\n",
      "\n",
      " ...\n",
      "\n",
      "\n",
      " [[[0. 0. 0. 0. 0.]\n",
      "   [0. 0. 0. 0. 0.]\n",
      "   [0. 0. 0. 0. 0.]]\n",
      "\n",
      "  [[0. 0. 0. 0. 0.]\n",
      "   [0. 0. 0. 0. 0.]\n",
      "   [0. 0. 0. 0. 0.]]\n",
      "\n",
      "  [[0. 0. 0. 0. 0.]\n",
      "   [0. 0. 0. 0. 0.]\n",
      "   [0. 0. 0. 0. 0.]]\n",
      "\n",
      "  ...\n",
      "\n",
      "  [[0. 0. 0. 0. 0.]\n",
      "   [0. 0. 0. 0. 0.]\n",
      "   [0. 0. 0. 0. 0.]]\n",
      "\n",
      "  [[0. 0. 0. 0. 0.]\n",
      "   [0. 0. 0. 0. 0.]\n",
      "   [0. 0. 0. 0. 0.]]\n",
      "\n",
      "  [[0. 0. 0. 0. 0.]\n",
      "   [0. 0. 0. 0. 0.]\n",
      "   [0. 0. 0. 0. 0.]]]\n",
      "\n",
      "\n",
      " [[[0. 0. 0. 0. 0.]\n",
      "   [0. 0. 0. 0. 0.]\n",
      "   [0. 0. 0. 0. 0.]]\n",
      "\n",
      "  [[0. 0. 0. 0. 0.]\n",
      "   [0. 0. 0. 0. 0.]\n",
      "   [0. 0. 0. 0. 0.]]\n",
      "\n",
      "  [[0. 0. 0. 0. 0.]\n",
      "   [0. 0. 0. 0. 0.]\n",
      "   [0. 0. 0. 0. 0.]]\n",
      "\n",
      "  ...\n",
      "\n",
      "  [[0. 0. 0. 0. 0.]\n",
      "   [0. 0. 0. 0. 0.]\n",
      "   [0. 0. 0. 0. 0.]]\n",
      "\n",
      "  [[0. 0. 0. 0. 0.]\n",
      "   [0. 0. 0. 0. 0.]\n",
      "   [0. 0. 0. 0. 0.]]\n",
      "\n",
      "  [[0. 0. 0. 0. 0.]\n",
      "   [0. 0. 0. 0. 0.]\n",
      "   [0. 0. 0. 0. 0.]]]\n",
      "\n",
      "\n",
      " [[[0. 0. 0. 0. 0.]\n",
      "   [0. 0. 0. 0. 0.]\n",
      "   [0. 0. 0. 0. 0.]]\n",
      "\n",
      "  [[0. 0. 0. 0. 0.]\n",
      "   [0. 0. 0. 0. 0.]\n",
      "   [0. 0. 0. 0. 0.]]\n",
      "\n",
      "  [[0. 0. 0. 0. 0.]\n",
      "   [0. 0. 0. 0. 0.]\n",
      "   [0. 0. 0. 0. 0.]]\n",
      "\n",
      "  ...\n",
      "\n",
      "  [[0. 0. 0. 0. 0.]\n",
      "   [0. 0. 0. 0. 0.]\n",
      "   [0. 0. 0. 0. 0.]]\n",
      "\n",
      "  [[0. 0. 0. 0. 0.]\n",
      "   [0. 0. 0. 0. 0.]\n",
      "   [0. 0. 0. 0. 0.]]\n",
      "\n",
      "  [[0. 0. 0. 0. 0.]\n",
      "   [0. 0. 0. 0. 0.]\n",
      "   [0. 0. 0. 0. 0.]]]]\n"
     ]
    }
   ],
   "source": [
    "import numpy as np\n",
    "import tensorflow as tf\n",
    "bbox_coor=np.array([10.0,20.0,100.0,150.0])\n",
    "strides=np.array([8,16,32])\n",
    "a=(bbox_coor[2:] + bbox_coor[:2]) * 0.5\n",
    "b=bbox_coor[2:] - bbox_coor[:2]\n",
    "c=[a,b]\n",
    "bbox_xywh = np.concatenate([(bbox_coor[2:] + bbox_coor[:2]) * 0.5, bbox_coor[2:] - bbox_coor[:2]], axis=-1)\n",
    "print(bbox_xywh)\n",
    "print(a,\"\\n\",b,\"\\n\",c,\"\\n\")\n",
    "bbox_xywh_scaled = 1.0 * bbox_xywh[np.newaxis, :] / strides[:, np.newaxis]#[8,16,32]\n",
    "print(bbox_xywh_scaled)\n",
    "\n",
    "bbox_xywh_scaled1=bbox_xywh_scaled[0][np.newaxis, :]\n",
    "print(bbox_xywh_scaled1)\n",
    "xind, yind = np.floor(bbox_xywh_scaled[0, 0:2]).astype(np.int32)#特征图上手工标注的x,y坐标索引\n",
    "print(xind,yind)\n",
    "\n",
    "label = [np.zeros((64, 64, 3,5)) for _ in range(3)]\n",
    "print(np.array(label).shape)\n",
    "iou_mask=True\n",
    "label[0][yind, xind, iou_mask, :] = 0\n",
    "print(label[0])"
   ]
  },
  {
   "cell_type": "code",
   "execution_count": 40,
   "metadata": {},
   "outputs": [
    {
     "name": "stdout",
     "output_type": "stream",
     "text": [
      "[1. 1.]\n"
     ]
    }
   ],
   "source": [
    "import numpy as np\n",
    "a=np.array([1.2,1.6])\n",
    "b=np.floor(a)\n",
    "print(b)"
   ]
  },
  {
   "cell_type": "code",
   "execution_count": 62,
   "metadata": {},
   "outputs": [
    {
     "name": "stdout",
     "output_type": "stream",
     "text": [
      "[False False  True]\n",
      "True\n",
      "[array([[[[0., 0., 0., 0., 0., 0.],\n",
      "         [0., 0., 0., 0., 0., 0.],\n",
      "         [0., 0., 0., 0., 0., 0.]],\n",
      "\n",
      "        [[0., 0., 0., 0., 0., 0.],\n",
      "         [0., 0., 0., 0., 0., 0.],\n",
      "         [0., 0., 0., 0., 0., 0.]]],\n",
      "\n",
      "\n",
      "       [[[0., 0., 0., 0., 0., 0.],\n",
      "         [0., 0., 0., 0., 0., 0.],\n",
      "         [0., 0., 0., 0., 0., 0.]],\n",
      "\n",
      "        [[0., 0., 0., 0., 0., 0.],\n",
      "         [0., 0., 0., 0., 0., 0.],\n",
      "         [0., 0., 0., 0., 0., 0.]]]])]\n",
      "[[[[0. 0. 0. 0. 0. 0.]\n",
      "   [0. 0. 0. 0. 0. 0.]\n",
      "   [0. 0. 0. 0. 0. 0.]]\n",
      "\n",
      "  [[0. 0. 0. 0. 0. 0.]\n",
      "   [0. 0. 0. 0. 0. 0.]\n",
      "   [0. 0. 0. 0. 0. 0.]]]\n",
      "\n",
      "\n",
      " [[[1. 2. 3. 4. 0. 0.]\n",
      "   [0. 0. 0. 0. 0. 0.]\n",
      "   [0. 0. 0. 0. 0. 0.]]\n",
      "\n",
      "  [[0. 0. 0. 0. 0. 0.]\n",
      "   [0. 0. 0. 0. 0. 0.]\n",
      "   [0. 0. 0. 0. 0. 0.]]]]\n"
     ]
    }
   ],
   "source": [
    "import os \n",
    "import numpy as np\n",
    "a=np.array([1,3,5])\n",
    "b=a>3\n",
    "print(b)\n",
    "c=np.any(b)\n",
    "print(c)\n",
    "label = [np.zeros((2,2,3,6))]\n",
    "print(label)\n",
    "label[0][1,0,(True,False,False), 0:4] = [1,2,3,4]\n",
    "print(label[0])"
   ]
  },
  {
   "cell_type": "code",
   "execution_count": 164,
   "metadata": {},
   "outputs": [
    {
     "name": "stdout",
     "output_type": "stream",
     "text": [
      "[[[1 2 3]\n",
      "  [5 6 7]]\n",
      "\n",
      " [[2 2 3]\n",
      "  [5 5 7]]]\n",
      "(2, 2, 3)\n",
      "[[[1 5]\n",
      "  [2 6]\n",
      "  [3 7]]\n",
      "\n",
      " [[2 5]\n",
      "  [2 5]\n",
      "  [3 7]]]\n",
      "\n",
      "[[[2 2 3]\n",
      "  [5 5 7]]\n",
      "\n",
      " [[1 2 3]\n",
      "  [5 6 7]]]\n",
      "[[[7 5 5]\n",
      "  [3 2 2]]\n",
      "\n",
      " [[7 6 5]\n",
      "  [3 2 1]]]\n",
      "[[[3 2 1]\n",
      "  [7 6 5]]\n",
      "\n",
      " [[3 2 2]\n",
      "  [7 5 5]]]\n",
      "[[[3 2 1]\n",
      "  [7 6 5]]\n",
      "\n",
      " [[3 2 2]\n",
      "  [7 5 5]]]\n"
     ]
    }
   ],
   "source": [
    "U=np.array([[[1,2,3],[5,6,7]],[[2,2,3],[5,5,7]]])\n",
    "print(U)\n",
    "print(U.shape)\n",
    "print(U.transpose((0,2,1)))#互换维度\n",
    "print()\n",
    "print(U[::-1])\n",
    "print(U[::-1,::-1,::-1])\n",
    "print(U[:,:,::-1])\n",
    "print(U[...,::-1])"
   ]
  },
  {
   "cell_type": "code",
   "execution_count": 168,
   "metadata": {},
   "outputs": [
    {
     "name": "stdout",
     "output_type": "stream",
     "text": [
      "[[[1 2 3]\n",
      "  [5 6 7]]\n",
      "\n",
      " [[2 2 3]\n",
      "  [5 5 7]]]\n",
      "4.0\n",
      "#0维 [[1.5 2.  3. ]\n",
      " [5.  5.5 7. ]]\n",
      "#1维 [[3.  4.  5. ]\n",
      " [3.5 3.5 5. ]]\n",
      "#2维 [[2.         6.        ]\n",
      " [2.33333333 5.66666667]]\n",
      "#0,1维 [3.25 3.75 5.  ]\n",
      "#0,2维 [2.16666667 5.83333333]\n",
      "#1,2维 [4. 4.]\n",
      "#0,1,2维 4.0\n"
     ]
    }
   ],
   "source": [
    "# help(np.mean)\n",
    "print(U)\n",
    "print(np.mean(U))\n",
    "print(\"#0维\",np.mean(U,(0)))\n",
    "print(\"#1维\",np.mean(U,(1)))\n",
    "print(\"#2维\",np.mean(U,(2)))\n",
    "print(\"#0,1维\",np.mean(U,(0,1)))\n",
    "print(\"#0,2维\",np.mean(U,(0,2)))\n",
    "print(\"#1,2维\",np.mean(U,(1,2)))\n",
    "print(\"#0,1,2维\",np.mean(U,(0,1,2)))"
   ]
  },
  {
   "cell_type": "markdown",
   "metadata": {},
   "source": [
    "python实现提取多维数组的第n维的前几位\n",
    "例：现在有一个(352,9,128,1)维的numpy数组,想要提取第二维度的前三个数据，构成新数组（352,3，128，1）\n",
    "思想1：将第二维的数据转秩（transpose）到第一维，再用切片（slice）取出前三个数据，再转秩回去："
   ]
  },
  {
   "cell_type": "code",
   "execution_count": 128,
   "metadata": {},
   "outputs": [
    {
     "name": "stdout",
     "output_type": "stream",
     "text": [
      "# original (352, 9, 128, 1)\n",
      "#transpose (9, 352, 128, 1)\n",
      "#slice (3, 352, 128, 1)\n",
      "#output (352, 3, 128, 1)\n"
     ]
    }
   ],
   "source": [
    "input_=np.empty((352,9,128,1))#定义一个指定维度的数组\n",
    "print(\"# original\",input_.shape)\n",
    "                \n",
    "input_transpose=input_.transpose((1,0,2,3))#第一维与第二维互换\n",
    "print(\"#transpose\",input_transpose.shape)\n",
    "                \n",
    "input_slice=input_transpose[0:3]#提取前三维\n",
    "print(\"#slice\",input_slice.shape)\n",
    "output=input_slice.transpose((1,0,2,3))\n",
    "print(\"#output\",output.shape)"
   ]
  },
  {
   "cell_type": "markdown",
   "metadata": {},
   "source": [
    "思想2：直接切片"
   ]
  },
  {
   "cell_type": "code",
   "execution_count": 154,
   "metadata": {},
   "outputs": [
    {
     "name": "stdout",
     "output_type": "stream",
     "text": [
      "# original (352, 9, 128, 1)\n",
      "(352, 3, 128, 1)\n",
      "(352, 3, 128, 1)\n",
      "(352, 3, 128, 1)\n",
      "(352, 3, 128, 1)\n",
      "(352, 3, 128, 1)\n",
      "(352, 3, 128, 1)\n",
      "(352, 3, 128, 1)\n"
     ]
    }
   ],
   "source": [
    "input_=np.empty((352,9,128,1))#定义一个指定维度的数组\n",
    "print(\"# original\",input_.shape)\n",
    "\n",
    "output=input_[:,[0,1,2],:,]#每一个维度必须加：，后面可以不用写\n",
    "print(output.shape)\n",
    "\n",
    "output=input_[:,[0,1,2]]#每一个维度必须加：，后面可以不用写\n",
    "print(output.shape)\n",
    "output=input_[:,[0,1,2],]#每一个维度必须加：，后面可以不用写\n",
    "print(output.shape)\n",
    "output=input_[:,[0,1,2],:]#每一个维度必须加：，后面可以不用写\n",
    "print(output.shape)\n",
    "output=input_[:,[0,1,2],:,]#每一个维度必须加：，后面可以不用写\n",
    "print(output.shape)\n",
    "output=input_[:,[0,1,2],:,:]#每一个维度必须加：，后面可以不用写\n",
    "print(output.shape)\n",
    "output=input_[:,[0,1,2],:,:,]#每一个维度必须加：，后面可以不用写\n",
    "print(output.shape)\n",
    "# output=input_[:,[0,1,2],:,:,:]#出错，too many indices for array\n",
    "# print(output.shape)"
   ]
  },
  {
   "cell_type": "code",
   "execution_count": 200,
   "metadata": {},
   "outputs": [
    {
     "name": "stdout",
     "output_type": "stream",
     "text": [
      "(2, 4)\n",
      "[[1 2 3 4]\n",
      " [0 1 2 3]]\n",
      "[[1 2 3 4]\n",
      " [0 1 2 3]]\n",
      "[1 2 3 4]\n",
      "[[1 2 3 4]]\n",
      "[[0 1 2 3]\n",
      " [1 2 3 4]]\n"
     ]
    }
   ],
   "source": [
    "import numpy as np\n",
    "a=np.array([[1,2,3,4],[0,1,2,3]])\n",
    "print(a.shape)\n",
    "print(a)\n",
    "print(a[::,])\n",
    "print(a[0])\n",
    "print(a[::2])\n",
    "print(a[::-1])"
   ]
  },
  {
   "cell_type": "code",
   "execution_count": 210,
   "metadata": {},
   "outputs": [
    {
     "name": "stdout",
     "output_type": "stream",
     "text": [
      "14.0\n",
      "[-12. -10.  -9. -11.  -8.  -5.  26.  11.  18.]\n",
      "[144. 100.  81. 121.  64.  25. 676. 121. 324.]\n",
      "1656.0\n",
      "207.0 1656.0\n",
      "1656.0\n",
      "(4, 3)\n",
      "[[ 2.25       -0.75        0.5       ]\n",
      " [-0.75        4.91666667 -7.16666667]\n",
      " [ 0.5        -7.16666667 11.        ]]\n"
     ]
    }
   ],
   "source": [
    "import numpy as np\n",
    "x = np.array([2,4,5,3,6,9,40,25,32])\n",
    "print(np.mean(x))\n",
    "print(x-np.mean(x))\n",
    "print((x-np.mean(x))**2)\n",
    "print(np.sum((x-np.mean(x))**2))\n",
    "print(np.cov(x),np.cov(x)*8)\n",
    "print(np.var(x)*9)\n",
    "y = np.array([[1,5,6],[4,3,9],[4,2,9],[4,7,2]])\n",
    "print(y.shape)\n",
    "print(np.cov(y,rowvar=False)) \n",
    "#其中rowvar是布尔类型。默认为true是将行作为独立的变量、如果是flase的话，则将列作为独立的变量。"
   ]
  },
  {
   "cell_type": "code",
   "execution_count": 229,
   "metadata": {},
   "outputs": [
    {
     "name": "stdout",
     "output_type": "stream",
     "text": [
      "(150, 4)\n",
      "(150, 150)\n",
      "[[ 0.68569351 -0.042434    1.27431544  0.51627069]\n",
      " [-0.042434    0.18997942 -0.32965638 -0.12163937]\n",
      " [ 1.27431544 -0.32965638  3.11627785  1.2956094 ]\n",
      " [ 0.51627069 -0.12163937  1.2956094   0.58100626]]\n"
     ]
    }
   ],
   "source": [
    "import numpy as np\n",
    "from sklearn import datasets\n",
    "iris = datasets.load_iris()\n",
    "# print(iris.data)\n",
    "print(iris.data.shape)\n",
    "print(np.cov(iris.data,rowvar=True).shape)\n",
    "print(np.cov(iris.data,rowvar=False))"
   ]
  },
  {
   "cell_type": "code",
   "execution_count": 247,
   "metadata": {},
   "outputs": [
    {
     "name": "stdout",
     "output_type": "stream",
     "text": [
      "512 [ 8 16 32] [64 32 16]\n"
     ]
    }
   ],
   "source": [
    "import os\n",
    "import random\n",
    "a=random.choice([320, 352, 384, 416, 448, 480, 512, 544, 576, 608])\n",
    "b=(np.array([8,16,32]))\n",
    "print(a,b,a//b)"
   ]
  },
  {
   "cell_type": "code",
   "execution_count": 249,
   "metadata": {},
   "outputs": [
    {
     "name": "stdout",
     "output_type": "stream",
     "text": [
      "1\n",
      "1.5\n"
     ]
    }
   ],
   "source": [
    "a=3\n",
    "b=2\n",
    "print(a//b)\n",
    "print(a/b)"
   ]
  },
  {
   "cell_type": "code",
   "execution_count": 321,
   "metadata": {},
   "outputs": [
    {
     "name": "stdout",
     "output_type": "stream",
     "text": [
      "[[12.5   25.    37.5   37.5  ]\n",
      " [ 6.25  12.5   18.75  18.75 ]\n",
      " [ 3.125  6.25   9.375  9.375]]\n",
      "[[12.5   25.5    3.75   3.75 ]\n",
      " [12.5   25.5    2.5    2.5  ]\n",
      " [12.5   25.5    0.625  6.25 ]]\n",
      "[[12.5 25.  37.5 37.5]]\n",
      "[0.01       0.00444444 0.00277778]\n",
      "[[12.5 25.  37.5 37.5]\n",
      " [12.5 25.  37.5 37.5]\n",
      " [12.5 25.  37.5 37.5]]\n",
      "[0.01       0.00444444 0.00277778]\n",
      "[[12.5 25.  37.5 37.5]]\n",
      "[[12.5   25.5    3.75   3.75 ]\n",
      " [12.5   25.5    2.5    2.5  ]\n",
      " [12.5   25.5    0.625  6.25 ]]\n",
      "[37.5]\n",
      "[37.5]\n",
      "[3.75  2.5   0.625]\n",
      "[3.75 2.5  6.25]\n",
      "[1406.25]\n",
      "[14.0625   6.25     3.90625]\n",
      "[[-6.25  6.25 31.25 43.75]]\n",
      "[[10.625  23.625  14.375  27.375 ]\n",
      " [11.25   24.25   13.75   26.75  ]\n",
      " [12.1875 22.375  12.8125 28.625 ]]\n",
      "[[10.625  23.625 ]\n",
      " [11.25   24.25  ]\n",
      " [12.1875 22.375 ]]\n",
      "[[14.375  27.375 ]\n",
      " [13.75   26.75  ]\n",
      " [12.8125 28.625 ]]\n",
      "[0.01       0.00444444 0.00277778]\n"
     ]
    }
   ],
   "source": [
    " def bbox_iou(boxes1, boxes2):\n",
    "\n",
    "        boxes1 = np.array(boxes1)#其实boxes是两维的\n",
    "        boxes2 = np.array(boxes2)\n",
    "        boxes1_area = boxes1[..., 2] * boxes1[..., 3]\n",
    "        boxes2_area = boxes2[..., 2] * boxes2[..., 3]\n",
    "\n",
    "        boxes1 = np.concatenate([boxes1[..., :2] - boxes1[..., 2:] * 0.5,\n",
    "                                boxes1[..., :2] + boxes1[..., 2:] * 0.5], axis=-1)\n",
    "        boxes2 = np.concatenate([boxes2[..., :2] - boxes2[..., 2:] * 0.5,\n",
    "                                boxes2[..., :2] + boxes2[..., 2:] * 0.5], axis=-1)\n",
    "\n",
    "        left_up = np.maximum(boxes1[..., :2], boxes2[..., :2])\n",
    "        right_down = np.minimum(boxes1[..., 2:], boxes2[..., 2:])\n",
    "\n",
    "        inter_section = np.maximum(right_down - left_up, 0.0)\n",
    "        inter_area = inter_section[..., 0] * inter_section[..., 1]\n",
    "        union_area = boxes1_area + boxes2_area - inter_area\n",
    "\n",
    "        return inter_area / union_area\n",
    "    \n",
    "\n",
    "\n",
    "strides=np.array([8,16,32])\n",
    "bbox_xywh=np.array([100,200,300,300])\n",
    "\n",
    "bbox_xywh_scaled = 1.0 * bbox_xywh[np.newaxis, :] / strides[:, np.newaxis]#[8,16,32]\n",
    "print(bbox_xywh_scaled)\n",
    "\n",
    "anchors_xywh = np.zeros((3, 4))#生成3行4列的矩阵，即两维的，第一维是3个尺度，第二维是4个坐标值\n",
    "anchors_xywh[:, 0:2] = np.floor(bbox_xywh_scaled[0, 0:2]).astype(np.int32) + 0.5#将中心坐标设定在特征图格子的中心\n",
    "anchors_xywh[:, 2:4] = [[30,30],[20,20],[5,50]]/ strides[0, np.newaxis]#锚框的宽高作为中心坐标的宽高，此处有三个锚框    \n",
    "print(anchors_xywh)\n",
    "\n",
    "\n",
    "print(bbox_xywh_scaled[0][np.newaxis, :])\n",
    "\n",
    "iou_scale = bbox_iou(bbox_xywh_scaled[0][np.newaxis, :], anchors_xywh)\n",
    "print(iou_scale)\n",
    "\n",
    "\n",
    "print(np.tile(bbox_xywh_scaled[0][np.newaxis, :],[3,1]))\n",
    "iou_scale = bbox_iou(np.tile(bbox_xywh_scaled[0][np.newaxis, :],[3,1]), anchors_xywh)\n",
    "print(iou_scale)\n",
    "\n",
    "boxes1=bbox_xywh_scaled[0][np.newaxis, :]\n",
    "boxes2=anchors_xywh\n",
    "print(boxes1)\n",
    "print(boxes2)\n",
    "print(boxes1[..., 2])\n",
    "print(boxes1[..., 3])\n",
    "print(boxes2[..., 2])\n",
    "print(boxes2[..., 3])\n",
    "\n",
    "boxes1_area = boxes1[..., 2] * boxes1[..., 3]\n",
    "boxes2_area = boxes2[..., 2] * boxes2[..., 3]\n",
    "\n",
    "print(boxes1_area)\n",
    "print(boxes2_area)\n",
    "\n",
    "boxes1 = np.concatenate([boxes1[..., :2] - boxes1[..., 2:] * 0.5,\n",
    "                                boxes1[..., :2] + boxes1[..., 2:] * 0.5], axis=-1)\n",
    "boxes2 = np.concatenate([boxes2[..., :2] - boxes2[..., 2:] * 0.5,\n",
    "                                boxes2[..., :2] + boxes2[..., 2:] * 0.5], axis=-1)\n",
    "print(boxes1)\n",
    "print(boxes2)\n",
    "left_up = np.maximum(boxes1[..., :2], boxes2[..., :2])\n",
    "print(left_up)\n",
    "right_down = np.minimum(boxes1[..., 2:], boxes2[..., 2:])\n",
    "print(right_down)\n",
    "inter_section = np.maximum(right_down - left_up, 0.0)\n",
    "inter_area = inter_section[..., 0] * inter_section[..., 1]\n",
    "union_area = boxes1_area + boxes2_area - inter_area\n",
    "print(inter_area/union_area)"
   ]
  },
  {
   "cell_type": "code",
   "execution_count": 278,
   "metadata": {},
   "outputs": [
    {
     "name": "stdout",
     "output_type": "stream",
     "text": [
      "[[3. 4. 1. 2.]\n",
      " [3. 4. 1. 2.]\n",
      " [3. 4. 1. 2.]]\n"
     ]
    }
   ],
   "source": [
    "anchors_xywh = np.zeros((3, 4))#生成3行4列的矩阵，即两维的，第一维是3个尺度，第二维是4个坐标值\n",
    "anchors_xywh[:, 0:2] = [[3,4]]#将中心坐标设定在特征图格子的中心\n",
    "anchors_xywh[:, 2:4] = [[1,2]]#锚框的宽高作为中心坐标的宽高，此处有三个锚框\n",
    "print(anchors_xywh)"
   ]
  },
  {
   "cell_type": "code",
   "execution_count": 310,
   "metadata": {},
   "outputs": [
    {
     "name": "stdout",
     "output_type": "stream",
     "text": [
      "[[1 3 9]] (1, 3)\n",
      "[[2 2 4]\n",
      " [1 5 9]\n",
      " [0 3 8]] (3, 3)\n",
      "[[2 3 9]\n",
      " [1 5 9]\n",
      " [1 3 9]]\n",
      "[1 3 9] (3,)\n",
      "[[2 2 4]\n",
      " [1 5 9]\n",
      " [0 3 8]] (3, 3)\n",
      "[[2 3 9]\n",
      " [1 5 9]\n",
      " [1 3 9]]\n",
      "[[1 3 9]\n",
      " [0 0 0]\n",
      " [0 0 0]] (3, 3)\n",
      "[[2 2 4]\n",
      " [1 5 9]\n",
      " [0 3 8]] (3, 3)\n",
      "[[2 3 9]\n",
      " [1 5 9]\n",
      " [0 3 8]]\n"
     ]
    }
   ],
   "source": [
    "#只要两个矩阵的维度相同就可以进行大小值的比较，比如第一维度的个数只有1个数，第二维度有三个数，则第一行会分别取其他两行进行比较\n",
    "#网上有人说这种方式是自动广播\n",
    "a=np.array([[1,3,9]])\n",
    "b=np.array([[2,2,4],[1,5,9],[0,3,8]])\n",
    "print(a,a.shape)\n",
    "print(b,b.shape)\n",
    "print(np.maximum(a,b))\n",
    "\n",
    "a=np.array([1,3,9])\n",
    "b=np.array([[2,2,4],[1,5,9],[0,3,8]])\n",
    "print(a,a.shape)\n",
    "print(b,b.shape)\n",
    "print(np.maximum(a,b))\n",
    "\n",
    "a=np.array([[1,3,9],[0,0,0],[0,0,0]])\n",
    "b=np.array([[2,2,4],[1,5,9],[0,3,8]])\n",
    "print(a,a.shape)\n",
    "print(b,b.shape)\n",
    "print(np.maximum(a,b))\n"
   ]
  },
  {
   "cell_type": "code",
   "execution_count": 345,
   "metadata": {},
   "outputs": [
    {
     "name": "stdout",
     "output_type": "stream",
     "text": [
      "Tensor(\"ExpandDims:0\", shape=(3, 3, 1), dtype=float64)\n",
      "[[0.1 0.3 0.5]\n",
      " [0.6 0.5 0.3]\n",
      " [0.3 0.1 0.5]]\n",
      "(3, 3)\n",
      "[0.1 0.3 0.5 0.6 0.5 0.3 0.3 0.1 0.5]\n",
      "3\n",
      "[2 0 2]\n",
      "[[0.1 0.3 0.5]\n",
      " [0.6 0.5 0.3]\n",
      " [0.3 0.1 0.5]]\n",
      "best_anchor_index [2 0 2]\n",
      "[0.66666667 0.         0.66666667]\n",
      "[2 0 2]\n"
     ]
    }
   ],
   "source": [
    "iou=[[0.1,0.3,0.5],[0.6,0.5,0.3],[0.3,0.1,0.5]]\n",
    "iou=np.array(iou)\n",
    "print(tf.expand_dims(iou,-1))\n",
    "print(iou)\n",
    "print(iou.shape)\n",
    "print(iou.reshape(-1))\n",
    "print(np.argmax(iou.reshape(-1),axis=-1))\n",
    "print(np.argmax(iou,axis=-1))\n",
    "print(iou)\n",
    "best_anchor_index=np.argmax(iou,axis=-1)\n",
    "print(\"best_anchor_index\",best_anchor_index)\n",
    "best_detect=best_anchor_index/3\n",
    "best_anch=best_anchor_index%3\n",
    "print(best_detect)\n",
    "print(best_anch)"
   ]
  },
  {
   "cell_type": "code",
   "execution_count": null,
   "metadata": {},
   "outputs": [],
   "source": []
  },
  {
   "cell_type": "code",
   "execution_count": null,
   "metadata": {},
   "outputs": [],
   "source": []
  }
 ],
 "metadata": {
  "kernelspec": {
   "display_name": "Python 3",
   "language": "python",
   "name": "python3"
  },
  "language_info": {
   "codemirror_mode": {
    "name": "ipython",
    "version": 3
   },
   "file_extension": ".py",
   "mimetype": "text/x-python",
   "name": "python",
   "nbconvert_exporter": "python",
   "pygments_lexer": "ipython3",
   "version": "3.7.1"
  }
 },
 "nbformat": 4,
 "nbformat_minor": 2
}
